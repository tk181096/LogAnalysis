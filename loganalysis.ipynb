{
 "cells": [
  {
   "cell_type": "markdown",
   "metadata": {},
   "source": [
    "# Part A: Parsing to datastructure"
   ]
  },
  {
   "cell_type": "code",
   "execution_count": 1,
   "metadata": {},
   "outputs": [],
   "source": [
    "import pandas as pd\n",
    "import numpy as np\n",
    "import matplotlib.mlab as mlab\n",
    "import matplotlib.pyplot as plt"
   ]
  },
  {
   "cell_type": "code",
   "execution_count": 2,
   "metadata": {},
   "outputs": [],
   "source": [
    "with open('pf.log', 'r' ) as f:\n",
    "    lines = f.readlines()\n",
    "lines = [line.strip() for line in lines]     "
   ]
  },
  {
   "cell_type": "code",
   "execution_count": 3,
   "metadata": {},
   "outputs": [],
   "source": [
    "i=0    \n",
    "j=0    \n",
    "length = len(lines)    \n",
    "\n",
    "final = [] #parsed log file stored in list datastructure\n",
    "    \n",
    "while(i != length):\n",
    "    val1 = lines[i].split(':')   \n",
    "    i = i + 1\n",
    "    j = j + 1\n",
    "    while(i != length and lines[i][0] == '<'):  \n",
    "        val2 = lines[i].split('+')\n",
    "        lib = val2[0].strip('<')\n",
    "        val3 = val2[1].split('/') \n",
    "        offset = int(val3[0], 16)   #converted to int\n",
    "        addr = int(val3[1].strip('>'), 16)    #converted to int\n",
    "        result = '\\t'.join([str(j), val1[0], val1[1], val1[2], str(int(val1[3], 16)), val1[4], val1[5], val1[6], lib, str(addr), str(offset)])          \n",
    "        i = i + 1\n",
    "        final.append(result)\n",
    "        "
   ]
  },
  {
   "cell_type": "code",
   "execution_count": 4,
   "metadata": {},
   "outputs": [
    {
     "data": {
      "text/plain": [
       "['1\\t1506816069251\\tfirefox\\t13179\\t10773289646\\tR\\tminor\\t50\\t/usr/lib/x86_64-linux-gnu/libcairo.so.2.11400.10\\t16727808\\t686943',\n",
       " '1\\t1506816069251\\tfirefox\\t13179\\t10773289646\\tR\\tminor\\t50\\t/lib/x86_64-linux-gnu/libglib-2.0.so.0.5400.1\\t16748032\\t660132',\n",
       " '1\\t1506816069251\\tfirefox\\t13179\\t10773289646\\tR\\tminor\\t50\\t/lib/x86_64-linux-gnu/libpthread-2.26.so\\t16746496\\t483292',\n",
       " '1\\t1506816069251\\tfirefox\\t13179\\t10773289646\\tR\\tminor\\t50\\t/usr/lib/x86_64-linux-gnu/libX11.so.6.3.0\\t16748800\\t108902',\n",
       " '1\\t1506816069251\\tfirefox\\t13179\\t10773289646\\tR\\tminor\\t50\\t/lib/x86_64-linux-gnu/libc-2.26.so\\t16767232\\t7501']"
      ]
     },
     "execution_count": 4,
     "metadata": {},
     "output_type": "execute_result"
    }
   ],
   "source": [
    "final[:5]"
   ]
  },
  {
   "cell_type": "code",
   "execution_count": 5,
   "metadata": {},
   "outputs": [],
   "source": [
    "with open('pf.csv', 'w') as f:\n",
    "    f.write('\\t'.join(['index', 'time', 'proc_name', 'pid', 'pfaddr', 'rw', 'major_minor', 'resolve_time', 'lib', 'addr', 'offset']))\n",
    "    f.write('\\n')\n",
    "    for element in final:\n",
    "        f.write(element)\n",
    "        f.write('\\n')"
   ]
  },
  {
   "cell_type": "code",
   "execution_count": 6,
   "metadata": {},
   "outputs": [
    {
     "data": {
      "text/html": [
       "<div>\n",
       "<style scoped>\n",
       "    .dataframe tbody tr th:only-of-type {\n",
       "        vertical-align: middle;\n",
       "    }\n",
       "\n",
       "    .dataframe tbody tr th {\n",
       "        vertical-align: top;\n",
       "    }\n",
       "\n",
       "    .dataframe thead th {\n",
       "        text-align: right;\n",
       "    }\n",
       "</style>\n",
       "<table border=\"1\" class=\"dataframe\">\n",
       "  <thead>\n",
       "    <tr style=\"text-align: right;\">\n",
       "      <th></th>\n",
       "      <th>index</th>\n",
       "      <th>time</th>\n",
       "      <th>proc_name</th>\n",
       "      <th>pid</th>\n",
       "      <th>pfaddr</th>\n",
       "      <th>rw</th>\n",
       "      <th>major_minor</th>\n",
       "      <th>resolve_time</th>\n",
       "      <th>lib</th>\n",
       "      <th>addr</th>\n",
       "      <th>offset</th>\n",
       "    </tr>\n",
       "    <tr>\n",
       "      <th>index</th>\n",
       "      <th></th>\n",
       "      <th></th>\n",
       "      <th></th>\n",
       "      <th></th>\n",
       "      <th></th>\n",
       "      <th></th>\n",
       "      <th></th>\n",
       "      <th></th>\n",
       "      <th></th>\n",
       "      <th></th>\n",
       "      <th></th>\n",
       "    </tr>\n",
       "  </thead>\n",
       "  <tbody>\n",
       "    <tr>\n",
       "      <th>1</th>\n",
       "      <td>1</td>\n",
       "      <td>1506816069251</td>\n",
       "      <td>firefox</td>\n",
       "      <td>13179</td>\n",
       "      <td>10773289646</td>\n",
       "      <td>R</td>\n",
       "      <td>minor</td>\n",
       "      <td>50</td>\n",
       "      <td>/usr/lib/x86_64-linux-gnu/libcairo.so.2.11400.10</td>\n",
       "      <td>16727808</td>\n",
       "      <td>686943</td>\n",
       "    </tr>\n",
       "    <tr>\n",
       "      <th>1</th>\n",
       "      <td>1</td>\n",
       "      <td>1506816069251</td>\n",
       "      <td>firefox</td>\n",
       "      <td>13179</td>\n",
       "      <td>10773289646</td>\n",
       "      <td>R</td>\n",
       "      <td>minor</td>\n",
       "      <td>50</td>\n",
       "      <td>/lib/x86_64-linux-gnu/libglib-2.0.so.0.5400.1</td>\n",
       "      <td>16748032</td>\n",
       "      <td>660132</td>\n",
       "    </tr>\n",
       "    <tr>\n",
       "      <th>1</th>\n",
       "      <td>1</td>\n",
       "      <td>1506816069251</td>\n",
       "      <td>firefox</td>\n",
       "      <td>13179</td>\n",
       "      <td>10773289646</td>\n",
       "      <td>R</td>\n",
       "      <td>minor</td>\n",
       "      <td>50</td>\n",
       "      <td>/lib/x86_64-linux-gnu/libpthread-2.26.so</td>\n",
       "      <td>16746496</td>\n",
       "      <td>483292</td>\n",
       "    </tr>\n",
       "    <tr>\n",
       "      <th>1</th>\n",
       "      <td>1</td>\n",
       "      <td>1506816069251</td>\n",
       "      <td>firefox</td>\n",
       "      <td>13179</td>\n",
       "      <td>10773289646</td>\n",
       "      <td>R</td>\n",
       "      <td>minor</td>\n",
       "      <td>50</td>\n",
       "      <td>/usr/lib/x86_64-linux-gnu/libX11.so.6.3.0</td>\n",
       "      <td>16748800</td>\n",
       "      <td>108902</td>\n",
       "    </tr>\n",
       "    <tr>\n",
       "      <th>1</th>\n",
       "      <td>1</td>\n",
       "      <td>1506816069251</td>\n",
       "      <td>firefox</td>\n",
       "      <td>13179</td>\n",
       "      <td>10773289646</td>\n",
       "      <td>R</td>\n",
       "      <td>minor</td>\n",
       "      <td>50</td>\n",
       "      <td>/lib/x86_64-linux-gnu/libc-2.26.so</td>\n",
       "      <td>16767232</td>\n",
       "      <td>7501</td>\n",
       "    </tr>\n",
       "  </tbody>\n",
       "</table>\n",
       "</div>"
      ],
      "text/plain": [
       "       index           time proc_name    pid       pfaddr rw major_minor  \\\n",
       "index                                                                      \n",
       "1          1  1506816069251   firefox  13179  10773289646  R       minor   \n",
       "1          1  1506816069251   firefox  13179  10773289646  R       minor   \n",
       "1          1  1506816069251   firefox  13179  10773289646  R       minor   \n",
       "1          1  1506816069251   firefox  13179  10773289646  R       minor   \n",
       "1          1  1506816069251   firefox  13179  10773289646  R       minor   \n",
       "\n",
       "       resolve_time                                               lib  \\\n",
       "index                                                                   \n",
       "1                50  /usr/lib/x86_64-linux-gnu/libcairo.so.2.11400.10   \n",
       "1                50     /lib/x86_64-linux-gnu/libglib-2.0.so.0.5400.1   \n",
       "1                50          /lib/x86_64-linux-gnu/libpthread-2.26.so   \n",
       "1                50         /usr/lib/x86_64-linux-gnu/libX11.so.6.3.0   \n",
       "1                50                /lib/x86_64-linux-gnu/libc-2.26.so   \n",
       "\n",
       "           addr  offset  \n",
       "index                    \n",
       "1      16727808  686943  \n",
       "1      16748032  660132  \n",
       "1      16746496  483292  \n",
       "1      16748800  108902  \n",
       "1      16767232    7501  "
      ]
     },
     "execution_count": 6,
     "metadata": {},
     "output_type": "execute_result"
    }
   ],
   "source": [
    "df = pd.read_csv('pf.csv', sep = '\\t', parse_dates = ['time'])\n",
    "df.set_index(df['index'], inplace=True)  #setting index of data frame\n",
    "df.head()"
   ]
  },
  {
   "cell_type": "markdown",
   "metadata": {},
   "source": [
    "# Part B: Data Analysis"
   ]
  },
  {
   "cell_type": "markdown",
   "metadata": {},
   "source": [
    "### a. What time range does this data cover?"
   ]
  },
  {
   "cell_type": "code",
   "execution_count": 7,
   "metadata": {},
   "outputs": [
    {
     "name": "stdout",
     "output_type": "stream",
     "text": [
      "start date: 2017-10-01 00:01:09.251000\n",
      "end date: 2018-01-07 18:59:50.839000\n",
      "time range: 98 days 18:58:41.588000\n"
     ]
    }
   ],
   "source": [
    "start_date = pd.to_datetime(df['time'], unit='ms').min()\n",
    "end_date = pd.to_datetime(df['time'], unit='ms').max()\n",
    "range_date = end_date - start_date\n",
    "print(\"start date:\", start_date)\n",
    "print(\"end date:\", end_date)\n",
    "print(\"time range:\",range_date)"
   ]
  },
  {
   "cell_type": "markdown",
   "metadata": {},
   "source": [
    "### b. How many unique processes were executed over this period? How many times was each process executed?"
   ]
  },
  {
   "cell_type": "code",
   "execution_count": 8,
   "metadata": {},
   "outputs": [
    {
     "data": {
      "text/plain": [
       "12"
      ]
     },
     "execution_count": 8,
     "metadata": {},
     "output_type": "execute_result"
    }
   ],
   "source": [
    "count = df.groupby(df['proc_name'])['index'].unique()\n",
    "len(count) #Number of unique processes"
   ]
  },
  {
   "cell_type": "code",
   "execution_count": 9,
   "metadata": {
    "scrolled": true
   },
   "outputs": [
    {
     "name": "stdout",
     "output_type": "stream",
     "text": [
      "auditd 57185\n",
      "bash 57427\n",
      "firefox 58289\n",
      "gitlab-runner 54543\n",
      "google-chrome 59596\n",
      "htop 58304\n",
      "sshd 61721\n",
      "subl 61746\n",
      "thunderbird 59393\n",
      "tmux 54661\n",
      "watchdog 58839\n",
      "xorg 61072\n"
     ]
    }
   ],
   "source": [
    "proc_name = set(df['proc_name'])\n",
    "for i in range(len(count)):\n",
    "    print(count.index[i], len(count[i])) "
   ]
  },
  {
   "cell_type": "markdown",
   "metadata": {},
   "source": [
    "### c. Compare the number of major & minor page faults for each process (averaged over all runs). Plot a bar chart with two categories ‑ major & minor, to demonstrate your results."
   ]
  },
  {
   "cell_type": "code",
   "execution_count": 10,
   "metadata": {},
   "outputs": [
    {
     "data": {
      "text/plain": [
       "proc_name      major_minor\n",
       "auditd         major          [66, 124, 166, 238, 265, 322, 340, 392, 610, 6...\n",
       "               minor          [6, 8, 11, 12, 15, 16, 18, 25, 26, 28, 33, 35,...\n",
       "bash           major          [548, 555, 577, 582, 597, 820, 845, 1522, 1576...\n",
       "               minor          [462, 463, 468, 473, 476, 487, 494, 497, 515, ...\n",
       "firefox        major          [49, 60, 87, 142, 178, 225, 240, 254, 287, 301...\n",
       "               minor          [1, 2, 9, 10, 13, 14, 23, 24, 30, 46, 47, 50, ...\n",
       "gitlab-runner  major          [32, 119, 274, 300, 331, 498, 507, 818, 866, 9...\n",
       "               minor          [39, 62, 140, 146, 209, 215, 219, 252, 264, 27...\n",
       "google-chrome  major          [550, 659, 712, 798, 846, 847, 991, 1002, 1116...\n",
       "               minor          [453, 464, 469, 475, 517, 525, 542, 549, 556, ...\n",
       "htop           major          [2137, 2144, 2171, 2194, 2214, 2255, 2291, 238...\n",
       "               minor          [2099, 2104, 2113, 2115, 2122, 2140, 2142, 214...\n",
       "sshd           major          [245, 288, 461, 466, 524, 533, 563, 574, 583, ...\n",
       "               minor          [228, 234, 239, 241, 242, 257, 272, 273, 277, ...\n",
       "subl           major          [100, 118, 465, 924, 979, 994, 1035, 1060, 107...\n",
       "               minor          [17, 38, 99, 101, 116, 133, 167, 172, 174, 207...\n",
       "thunderbird    major          [40, 211, 4032, 4038, 4046, 4053, 4067, 4084, ...\n",
       "               minor          [3, 5, 20, 21, 42, 43, 48, 51, 59, 69, 96, 103...\n",
       "tmux           major          [698, 1092, 1141, 1152, 1186, 1190, 1201, 1215...\n",
       "               minor          [691, 801, 896, 902, 911, 978, 1020, 1058, 112...\n",
       "watchdog       major          [78, 83, 147, 170, 197, 216, 376, 512, 518, 58...\n",
       "               minor          [4, 7, 19, 22, 27, 29, 31, 34, 37, 41, 45, 58,...\n",
       "xorg           major          [843, 884, 888, 1019, 1022, 1040, 1107, 1163, ...\n",
       "               minor          [835, 840, 848, 853, 864, 868, 870, 881, 883, ...\n",
       "Name: index, dtype: object"
      ]
     },
     "execution_count": 10,
     "metadata": {},
     "output_type": "execute_result"
    }
   ],
   "source": [
    "process = df.groupby(['proc_name', 'major_minor'])['index'].unique()\n",
    "process\n"
   ]
  },
  {
   "cell_type": "code",
   "execution_count": 11,
   "metadata": {
    "scrolled": true
   },
   "outputs": [
    {
     "name": "stdout",
     "output_type": "stream",
     "text": [
      "auditd major 5701\n",
      "auditd minor 51484\n",
      "bash major 5713\n",
      "bash minor 51714\n",
      "firefox major 5991\n",
      "firefox minor 52298\n",
      "gitlab-runner major 5291\n",
      "gitlab-runner minor 49252\n",
      "google-chrome major 5938\n",
      "google-chrome minor 53658\n",
      "htop major 5902\n",
      "htop minor 52402\n",
      "sshd major 6089\n",
      "sshd minor 55632\n",
      "subl major 6129\n",
      "subl minor 55617\n",
      "thunderbird major 5857\n",
      "thunderbird minor 53536\n",
      "tmux major 5478\n",
      "tmux minor 49183\n",
      "watchdog major 5872\n",
      "watchdog minor 52967\n",
      "xorg major 6078\n",
      "xorg minor 54994\n"
     ]
    },
    {
     "data": {
      "image/png": "[encoded data removed]",
      "text/plain": [
       "<Figure size 432x288 with 1 Axes>"
      ]
     },
     "metadata": {
      "needs_background": "light"
     },
     "output_type": "display_data"
    }
   ],
   "source": [
    "process = df.groupby(['proc_name','major_minor'])['index'].unique()\n",
    "\n",
    "process_list = []\n",
    "major_val = []\n",
    "minor_val = []\n",
    "\n",
    "for i in range(len(process)):\n",
    "    process_name = process.index[i][0]\n",
    "    name = process.index[i][1]\n",
    "    val = len(process[i])\n",
    "    print(process_name, name, val)\n",
    "    if  name == 'major':\n",
    "        process_list.append(process_name)\n",
    "        major_val.append(val)\n",
    "    else:\n",
    "        minor_val.append(val)\n",
    "\n",
    "fig, ax = plt.subplots()         \n",
    "n_groups = len(process_list)\n",
    "index = np.arange(n_groups)\n",
    "bar_width = 0.3\n",
    "opacity = 0.3\n",
    "\n",
    "rects1 = ax.bar(index, major_val, bar_width, alpha=opacity, color='g',label='Major')\n",
    "rects2 = ax.bar(index + bar_width, minor_val, bar_width,alpha=opacity, color='b',label='Minor')\n",
    "\n",
    "ax.set_xlabel('Process')\n",
    "ax.set_ylabel('Frequency')\n",
    "ax.set_title('Major & Minor Page Faults for each Process')\n",
    "ax.set_xticks(index + bar_width/2)\n",
    "ax.set_xticklabels(process_list)\n",
    "ax.legend()\n",
    "\n",
    "fig.tight_layout()\n",
    "plt.xticks(rotation=90,fontsize = 10)\n",
    "plt.show()"
   ]
  },
  {
   "cell_type": "code",
   "execution_count": null,
   "metadata": {},
   "outputs": [],
   "source": []
  },
  {
   "cell_type": "markdown",
   "metadata": {},
   "source": [
    "### d. Plot the histogram for the time to resolve page faults. Label the axes. For each process, report the mean and standard deviation of the time to resolve page faults. Plotting and calculations should be done for major and minor page faults separately."
   ]
  },
  {
   "cell_type": "code",
   "execution_count": 12,
   "metadata": {
    "scrolled": true
   },
   "outputs": [
    {
     "data": {
      "image/png": "[encoded data removed]",
      "text/plain": [
       "<Figure size 432x288 with 1 Axes>"
      ]
     },
     "metadata": {
      "needs_background": "light"
     },
     "output_type": "display_data"
    },
    {
     "data": {
      "image/png": "[encoded data removed]",
      "text/plain": [
       "<Figure size 432x288 with 1 Axes>"
      ]
     },
     "metadata": {
      "needs_background": "light"
     },
     "output_type": "display_data"
    }
   ],
   "source": [
    "unique_index = df.groupby(df['index']).head(1)\n",
    "major_dist = list(unique_index[unique_index['major_minor'] == 'major']['resolve_time'])\n",
    "minor_dist = list(unique_index[unique_index['major_minor'] == 'minor']['resolve_time'])\n",
    "plt.hist(major_dist, bins='auto')  # Major Faults Histogram\n",
    "plt.ylabel('Frequency')\n",
    "plt.xlabel('Resolve Time')\n",
    "plt.title('Major Page Faults Histogram')\n",
    "plt.show()\n",
    "plt.hist(minor_dist, bins='auto')  #Minor Faults Histogram\n",
    "plt.ylabel('Frequency')\n",
    "plt.xlabel('Resolve Time')\n",
    "plt.title('Minor Page Faults Histogram')\n",
    "plt.show()"
   ]
  },
  {
   "cell_type": "code",
   "execution_count": 13,
   "metadata": {
    "scrolled": true
   },
   "outputs": [
    {
     "data": {
      "text/html": [
       "<div>\n",
       "<style scoped>\n",
       "    .dataframe tbody tr th:only-of-type {\n",
       "        vertical-align: middle;\n",
       "    }\n",
       "\n",
       "    .dataframe tbody tr th {\n",
       "        vertical-align: top;\n",
       "    }\n",
       "\n",
       "    .dataframe thead tr th {\n",
       "        text-align: left;\n",
       "    }\n",
       "\n",
       "    .dataframe thead tr:last-of-type th {\n",
       "        text-align: right;\n",
       "    }\n",
       "</style>\n",
       "<table border=\"1\" class=\"dataframe\">\n",
       "  <thead>\n",
       "    <tr>\n",
       "      <th></th>\n",
       "      <th colspan=\"2\" halign=\"left\">resolve_time</th>\n",
       "    </tr>\n",
       "    <tr>\n",
       "      <th></th>\n",
       "      <th>mean</th>\n",
       "      <th>std</th>\n",
       "    </tr>\n",
       "    <tr>\n",
       "      <th>proc_name</th>\n",
       "      <th></th>\n",
       "      <th></th>\n",
       "    </tr>\n",
       "  </thead>\n",
       "  <tbody>\n",
       "    <tr>\n",
       "      <th>auditd</th>\n",
       "      <td>218.191273</td>\n",
       "      <td>105.493006</td>\n",
       "    </tr>\n",
       "    <tr>\n",
       "      <th>bash</th>\n",
       "      <td>219.380514</td>\n",
       "      <td>105.209861</td>\n",
       "    </tr>\n",
       "    <tr>\n",
       "      <th>firefox</th>\n",
       "      <td>219.960241</td>\n",
       "      <td>104.477581</td>\n",
       "    </tr>\n",
       "    <tr>\n",
       "      <th>gitlab-runner</th>\n",
       "      <td>213.306051</td>\n",
       "      <td>105.639431</td>\n",
       "    </tr>\n",
       "    <tr>\n",
       "      <th>google-chrome</th>\n",
       "      <td>218.813443</td>\n",
       "      <td>104.972038</td>\n",
       "    </tr>\n",
       "    <tr>\n",
       "      <th>htop</th>\n",
       "      <td>219.088798</td>\n",
       "      <td>104.744666</td>\n",
       "    </tr>\n",
       "    <tr>\n",
       "      <th>sshd</th>\n",
       "      <td>216.805671</td>\n",
       "      <td>105.636435</td>\n",
       "    </tr>\n",
       "    <tr>\n",
       "      <th>subl</th>\n",
       "      <td>215.073090</td>\n",
       "      <td>106.021568</td>\n",
       "    </tr>\n",
       "    <tr>\n",
       "      <th>thunderbird</th>\n",
       "      <td>219.667928</td>\n",
       "      <td>106.878117</td>\n",
       "    </tr>\n",
       "    <tr>\n",
       "      <th>tmux</th>\n",
       "      <td>219.742614</td>\n",
       "      <td>105.805424</td>\n",
       "    </tr>\n",
       "    <tr>\n",
       "      <th>watchdog</th>\n",
       "      <td>215.778328</td>\n",
       "      <td>105.352504</td>\n",
       "    </tr>\n",
       "    <tr>\n",
       "      <th>xorg</th>\n",
       "      <td>216.892856</td>\n",
       "      <td>105.984679</td>\n",
       "    </tr>\n",
       "  </tbody>\n",
       "</table>\n",
       "</div>"
      ],
      "text/plain": [
       "              resolve_time            \n",
       "                      mean         std\n",
       "proc_name                             \n",
       "auditd          218.191273  105.493006\n",
       "bash            219.380514  105.209861\n",
       "firefox         219.960241  104.477581\n",
       "gitlab-runner   213.306051  105.639431\n",
       "google-chrome   218.813443  104.972038\n",
       "htop            219.088798  104.744666\n",
       "sshd            216.805671  105.636435\n",
       "subl            215.073090  106.021568\n",
       "thunderbird     219.667928  106.878117\n",
       "tmux            219.742614  105.805424\n",
       "watchdog        215.778328  105.352504\n",
       "xorg            216.892856  105.984679"
      ]
     },
     "execution_count": 13,
     "metadata": {},
     "output_type": "execute_result"
    }
   ],
   "source": [
    "df_major = df[df['major_minor'] == 'major']\n",
    "mean_std = df_major.groupby('proc_name').agg({'resolve_time':['mean', 'std']})\n",
    "mean_std"
   ]
  },
  {
   "cell_type": "markdown",
   "metadata": {},
   "source": [
    "# Part C: Making Predictions"
   ]
  },
  {
   "cell_type": "markdown",
   "metadata": {},
   "source": [
    "### a. Assume that the process variable is the class. Calculate the priors for all the classes."
   ]
  },
  {
   "cell_type": "code",
   "execution_count": 14,
   "metadata": {},
   "outputs": [
    {
     "name": "stdout",
     "output_type": "stream",
     "text": [
      "firefox\n",
      "0.08308695743471528\n",
      "thunderbird\n",
      "0.08455969628409267\n",
      "watchdog\n",
      "0.08361583368657\n",
      "auditd\n",
      "0.08149605780766914\n",
      "subl\n",
      "0.08754645907384016\n",
      "gitlab-runner\n",
      "0.07773164050224025\n",
      "sshd\n",
      "0.0878742484600839\n",
      "google-chrome\n",
      "0.08474369966377564\n",
      "bash\n",
      "0.08182420309986971\n",
      "tmux\n",
      "0.07806049760635449\n",
      "xorg\n",
      "0.08681400461467664\n",
      "htop\n",
      "0.08264670176611214\n"
     ]
    }
   ],
   "source": [
    "class_proc=list(df['proc_name'].unique())\n",
    "for i in class_proc:\n",
    "    prior=df['proc_name']==i\n",
    "    prob_prior=prior.sum()/len(df)\n",
    "    print(i)\n",
    "    print(prob_prior)"
   ]
  },
  {
   "cell_type": "markdown",
   "metadata": {},
   "source": [
    "### b. Given that the page fault was major, which process was it most likely caused by? Use the MAP rule."
   ]
  },
  {
   "cell_type": "code",
   "execution_count": 15,
   "metadata": {},
   "outputs": [
    {
     "data": {
      "text/plain": [
       "proc_name      major_minor\n",
       "auditd         major          0.082049\n",
       "               minor          0.081435\n",
       "bash           major          0.082206\n",
       "               minor          0.081782\n",
       "firefox        major          0.086550\n",
       "               minor          0.082703\n",
       "gitlab-runner  major          0.076026\n",
       "               minor          0.077921\n",
       "google-chrome  major          0.084353\n",
       "               minor          0.084787\n",
       "htop           major          0.084132\n",
       "               minor          0.082482\n",
       "sshd           major          0.086906\n",
       "               minor          0.087982\n",
       "subl           major          0.086796\n",
       "               minor          0.087630\n",
       "thunderbird    major          0.082912\n",
       "               minor          0.084742\n",
       "tmux           major          0.077613\n",
       "               minor          0.078110\n",
       "watchdog       major          0.083458\n",
       "               minor          0.083633\n",
       "xorg           major          0.086999\n",
       "               minor          0.086794\n",
       "dtype: float64"
      ]
     },
     "execution_count": 15,
     "metadata": {},
     "output_type": "execute_result"
    }
   ],
   "source": [
    "major_minor_probs = df.groupby('major_minor').size().div(len(df))\n",
    "df.groupby(['proc_name', 'major_minor']).size().div(len(df)).div(major_minor_probs, axis=0, level='major_minor')\n",
    "\n"
   ]
  },
  {
   "cell_type": "markdown",
   "metadata": {},
   "source": [
    "Using MAP rule we conclude that given page fault was \"Major\", the process which causes the page fault is \"xorg\""
   ]
  },
  {
   "cell_type": "markdown",
   "metadata": {},
   "source": [
    "### c. Given that the page fault came from a read access, which process was it mostlikely caused by? Use the MAP rule."
   ]
  },
  {
   "cell_type": "code",
   "execution_count": 16,
   "metadata": {},
   "outputs": [
    {
     "data": {
      "text/plain": [
       "proc_name      rw\n",
       "auditd         R     0.081484\n",
       "               W     0.081525\n",
       "bash           R     0.081642\n",
       "               W     0.082249\n",
       "firefox        R     0.083216\n",
       "               W     0.082786\n",
       "gitlab-runner  R     0.077746\n",
       "               W     0.077699\n",
       "google-chrome  R     0.084581\n",
       "               W     0.085122\n",
       "htop           R     0.082886\n",
       "               W     0.082090\n",
       "sshd           R     0.087562\n",
       "               W     0.088603\n",
       "subl           R     0.087437\n",
       "               W     0.087801\n",
       "thunderbird    R     0.084585\n",
       "               W     0.084500\n",
       "tmux           R     0.078369\n",
       "               W     0.077341\n",
       "watchdog       R     0.083717\n",
       "               W     0.083381\n",
       "xorg           R     0.086775\n",
       "               W     0.086904\n",
       "dtype: float64"
      ]
     },
     "execution_count": 16,
     "metadata": {},
     "output_type": "execute_result"
    }
   ],
   "source": [
    "rw_probs = df.groupby('rw').size().div(len(df))\n",
    "df.groupby(['proc_name', 'rw']).size().div(len(df)).div(rw_probs, axis=0, level='rw')"
   ]
  },
  {
   "cell_type": "markdown",
   "metadata": {},
   "source": [
    "Using MAP rule we conclude that given page fault was from \"Read Access\", the process which causes the page fault is \"sshd\""
   ]
  },
  {
   "cell_type": "markdown",
   "metadata": {},
   "source": [
    "The Naive Bayes model can be used here to calculate the conditional probabilities and classify the process given information about the severity of the fault (major/minor),and the access type of the fault (read/write)."
   ]
  }
 ],
 "metadata": {
  "kernelspec": {
   "display_name": "Python 3",
   "language": "python",
   "name": "python3"
  },
  "language_info": {
   "codemirror_mode": {
    "name": "ipython",
    "version": 3
   },
   "file_extension": ".py",
   "mimetype": "text/x-python",
   "name": "python",
   "nbconvert_exporter": "python",
   "pygments_lexer": "ipython3",
   "version": "3.6.5"
  }
 },
 "nbformat": 4,
 "nbformat_minor": 2
}
